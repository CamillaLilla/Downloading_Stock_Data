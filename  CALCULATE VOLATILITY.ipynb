{
 "cells": [
  {
   "cell_type": "code",
   "execution_count": 13,
   "id": "79476464",
   "metadata": {},
   "outputs": [],
   "source": [
    "import numpy as np\n",
    "import pandas as pd\n",
    "\n",
    "import yfinance as yf"
   ]
  },
  {
   "cell_type": "code",
   "execution_count": 14,
   "id": "4b3b4da3",
   "metadata": {},
   "outputs": [
    {
     "name": "stdout",
     "output_type": "stream",
     "text": [
      "[*********************100%***********************]  1 of 1 completed\n"
     ]
    }
   ],
   "source": [
    "initial_data = yf.download(\"^GSPC\", start=\"2021-01-01\", end=\"2022-01-01\")"
   ]
  },
  {
   "cell_type": "code",
   "execution_count": 15,
   "id": "3260855e",
   "metadata": {},
   "outputs": [],
   "source": [
    "df = initial_data"
   ]
  },
  {
   "cell_type": "code",
   "execution_count": 16,
   "id": "ac65af46",
   "metadata": {},
   "outputs": [
    {
     "data": {
      "text/plain": [
       "Date\n",
       "2020-12-31    3756.070068\n",
       "2021-01-04    3700.649902\n",
       "2021-01-05    3726.860107\n",
       "2021-01-06    3748.139893\n",
       "2021-01-07    3803.790039\n",
       "2021-01-08    3824.679932\n",
       "2021-01-11    3799.610107\n",
       "2021-01-12    3801.189941\n",
       "2021-01-13    3809.840088\n",
       "2021-01-14    3795.540039\n",
       "2021-01-15    3768.250000\n",
       "2021-01-19    3798.909912\n",
       "Name: Adj Close, dtype: float64"
      ]
     },
     "execution_count": 16,
     "metadata": {},
     "output_type": "execute_result"
    }
   ],
   "source": [
    "initial_data['Adj Close'].head(12)"
   ]
  },
  {
   "cell_type": "code",
   "execution_count": 17,
   "id": "0396b0b7",
   "metadata": {},
   "outputs": [],
   "source": [
    "data = initial_data['Adj Close']"
   ]
  },
  {
   "cell_type": "code",
   "execution_count": 18,
   "id": "6ea10f64",
   "metadata": {},
   "outputs": [
    {
     "data": {
      "text/plain": [
       "count     253.00\n",
       "mean     4271.34\n",
       "std       288.71\n",
       "min      3700.65\n",
       "25%      4063.04\n",
       "50%      4300.46\n",
       "75%      4486.23\n",
       "max      4793.06\n",
       "Name: Adj Close, dtype: float64"
      ]
     },
     "execution_count": 18,
     "metadata": {},
     "output_type": "execute_result"
    }
   ],
   "source": [
    "data.describe().round(2)"
   ]
  },
  {
   "cell_type": "code",
   "execution_count": 19,
   "id": "afb90125",
   "metadata": {},
   "outputs": [
    {
     "data": {
      "text/plain": [
       "std    288.71\n",
       "Name: Adj Close, dtype: float64"
      ]
     },
     "execution_count": 19,
     "metadata": {},
     "output_type": "execute_result"
    }
   ],
   "source": [
    "data.aggregate([np.std]).round(2)"
   ]
  },
  {
   "cell_type": "code",
   "execution_count": 20,
   "id": "bae430de",
   "metadata": {},
   "outputs": [
    {
     "data": {
      "text/plain": [
       "Date\n",
       "2020-12-31       NaN\n",
       "2021-01-04   -0.0148\n",
       "2021-01-05    0.0071\n",
       "2021-01-06    0.0057\n",
       "2021-01-07    0.0148\n",
       "2021-01-08    0.0055\n",
       "2021-01-11   -0.0066\n",
       "2021-01-12    0.0004\n",
       "2021-01-13    0.0023\n",
       "2021-01-14   -0.0038\n",
       "2021-01-15   -0.0072\n",
       "2021-01-19    0.0081\n",
       "Name: Adj Close, dtype: float64"
      ]
     },
     "execution_count": 20,
     "metadata": {},
     "output_type": "execute_result"
    }
   ],
   "source": [
    "data.pct_change().round(4).head(12)"
   ]
  },
  {
   "cell_type": "code",
   "execution_count": 21,
   "id": "1255de55",
   "metadata": {},
   "outputs": [
    {
     "name": "stdout",
     "output_type": "stream",
     "text": [
      "Date\n",
      "2020-12-31         NaN\n",
      "2021-01-04   -0.014865\n",
      "2021-01-05    0.007058\n",
      "2021-01-06    0.005694\n",
      "2021-01-07    0.014738\n",
      "                ...   \n",
      "2021-12-27    0.013744\n",
      "2021-12-28   -0.001011\n",
      "2021-12-29    0.001401\n",
      "2021-12-30   -0.002994\n",
      "2021-12-31   -0.002630\n",
      "Name: Adj Close, Length: 253, dtype: float64\n"
     ]
    }
   ],
   "source": [
    "rets = np.log(data / data.shift(1))\n",
    "print(rets)"
   ]
  },
  {
   "cell_type": "code",
   "execution_count": 23,
   "id": "2cf117ee",
   "metadata": {},
   "outputs": [
    {
     "name": "stdout",
     "output_type": "stream",
     "text": [
      "The annualised volatility is 0.13\n"
     ]
    }
   ],
   "source": [
    "vix= np.sqrt(252)*rets.std()\n",
    "print(\"The annualised volatility is\", vix.round(2))"
   ]
  }
 ],
 "metadata": {
  "kernelspec": {
   "display_name": "Python 3 (ipykernel)",
   "language": "python",
   "name": "python3"
  },
  "language_info": {
   "codemirror_mode": {
    "name": "ipython",
    "version": 3
   },
   "file_extension": ".py",
   "mimetype": "text/x-python",
   "name": "python",
   "nbconvert_exporter": "python",
   "pygments_lexer": "ipython3",
   "version": "3.9.7"
  }
 },
 "nbformat": 4,
 "nbformat_minor": 5
}
